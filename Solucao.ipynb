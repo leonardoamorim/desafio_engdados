{
 "cells": [
  {
   "cell_type": "code",
   "execution_count": 1,
   "metadata": {},
   "outputs": [],
   "source": [
    "from pyspark import SparkConf, SparkContext\n",
    "from operator import add"
   ]
  },
  {
   "cell_type": "code",
   "execution_count": 2,
   "metadata": {},
   "outputs": [],
   "source": [
    "configuracao = (SparkConf().setMaster(\"local\").setAppName(\"Solucao\")\n",
    "                .set(\"spark.executor.memory\", \"5g\"))"
   ]
  },
  {
   "cell_type": "code",
   "execution_count": 3,
   "metadata": {},
   "outputs": [],
   "source": [
    "sc = SparkContext(conf = configuracao)"
   ]
  },
  {
   "cell_type": "code",
   "execution_count": 4,
   "metadata": {},
   "outputs": [],
   "source": [
    "julho = sc.textFile('/home/leonardo/Documentos/access_log_Jul95')\n",
    "agosto = sc.textFile('/home/leonardo/Documentos/access_log_Aug95')"
   ]
  },
  {
   "cell_type": "code",
   "execution_count": 5,
   "metadata": {},
   "outputs": [],
   "source": [
    "julho = julho.cache()\n",
    "agosto = agosto.cache()"
   ]
  },
  {
   "cell_type": "code",
   "execution_count": 6,
   "metadata": {},
   "outputs": [
    {
     "name": "stdout",
     "output_type": "stream",
     "text": [
      "Numero de hosts distintos no mes de Julho: 55\n"
     ]
    }
   ],
   "source": [
    "# Numero de hosts distintos no mes de Julho\n",
    "contagem_julho = julho.flatMap(lambda line: line.split(' ')[0]).distinct().count()\n",
    "print(\"Numero de hosts distintos no mes de Julho:\", contagem_julho)"
   ]
  },
  {
   "cell_type": "code",
   "execution_count": 7,
   "metadata": {},
   "outputs": [
    {
     "name": "stdout",
     "output_type": "stream",
     "text": [
      "Numero de hosts distintos no mes de Agosto: 53\n"
     ]
    }
   ],
   "source": [
    "# Numero de hosts distintos no mes de Agosto\n",
    "contagem_agosto = agosto.flatMap(lambda line: line.split(' ')[0]).distinct().count()\n",
    "print(\"Numero de hosts distintos no mes de Agosto:\", contagem_agosto)"
   ]
  },
  {
   "cell_type": "code",
   "execution_count": 8,
   "metadata": {},
   "outputs": [],
   "source": [
    "# Funcao para verificar se em uma linha existe um codigohttp igual a 404\n",
    "def codigo404(linha):\n",
    "    try:\n",
    "        codigohttp = linha.split(' ')[-2]\n",
    "        if codigohttp == '404':\n",
    "            return True\n",
    "    except:\n",
    "        pass\n",
    "    return False"
   ]
  },
  {
   "cell_type": "code",
   "execution_count": 9,
   "metadata": {},
   "outputs": [],
   "source": [
    "erros404_julho = julho.filter(codigo404).cache()\n",
    "erros404_agosto = agosto.filter(lambda linha: linha.split(' ')[-2] == '404').cache()"
   ]
  },
  {
   "cell_type": "code",
   "execution_count": 10,
   "metadata": {},
   "outputs": [
    {
     "name": "stdout",
     "output_type": "stream",
     "text": [
      "Erros 404 em Julho: 10845\n"
     ]
    }
   ],
   "source": [
    "print('Erros 404 em Julho: %s' % erros404_julho.count())"
   ]
  },
  {
   "cell_type": "code",
   "execution_count": 11,
   "metadata": {},
   "outputs": [
    {
     "name": "stdout",
     "output_type": "stream",
     "text": [
      "Erros 404 em Agosto: 10056\n"
     ]
    }
   ],
   "source": [
    "print('Erros 404 em Agosto: %s' % erros404_agosto.count())"
   ]
  },
  {
   "cell_type": "code",
   "execution_count": 12,
   "metadata": {},
   "outputs": [],
   "source": [
    "# Funcao para retornar os top5 urls com mais erros 404\n",
    "def top5_hosts404(rdd):\n",
    "    hosts = rdd.map(lambda linha: linha.split('\"')[1].split(' ')[1])\n",
    "    counts = hosts.map(lambda hosts: (hosts, 1)).reduceByKey(add)\n",
    "    top5 = counts.sortBy(lambda par: -par[1]).take(5)\n",
    "    \n",
    "    print('\\nTop 5 urls:')\n",
    "    for hosts, count in top5:\n",
    "        print(hosts, count)\n",
    "        \n",
    "    return top5"
   ]
  },
  {
   "cell_type": "code",
   "execution_count": 13,
   "metadata": {},
   "outputs": [
    {
     "name": "stdout",
     "output_type": "stream",
     "text": [
      "\n",
      "Top 5 urls:\n",
      "/pub/winvn/readme.txt 667\n",
      "/pub/winvn/release.txt 547\n",
      "/history/apollo/apollo-13.html 286\n",
      "/shuttle/resources/orbiters/atlantis.gif 232\n",
      "/history/apollo/a-001/a-001-patch-small.gif 230\n"
     ]
    },
    {
     "data": {
      "text/plain": [
       "[('/pub/winvn/readme.txt', 667),\n",
       " ('/pub/winvn/release.txt', 547),\n",
       " ('/history/apollo/apollo-13.html', 286),\n",
       " ('/shuttle/resources/orbiters/atlantis.gif', 232),\n",
       " ('/history/apollo/a-001/a-001-patch-small.gif', 230)]"
      ]
     },
     "execution_count": 13,
     "metadata": {},
     "output_type": "execute_result"
    }
   ],
   "source": [
    "top5_hosts404(erros404_julho)"
   ]
  },
  {
   "cell_type": "code",
   "execution_count": 14,
   "metadata": {},
   "outputs": [
    {
     "name": "stdout",
     "output_type": "stream",
     "text": [
      "\n",
      "Top 5 urls:\n",
      "/pub/winvn/readme.txt 1337\n",
      "/pub/winvn/release.txt 1185\n",
      "/shuttle/missions/STS-69/mission-STS-69.html 683\n",
      "/images/nasa-logo.gif 319\n",
      "/shuttle/missions/sts-68/ksc-upclose.gif 253\n"
     ]
    },
    {
     "data": {
      "text/plain": [
       "[('/pub/winvn/readme.txt', 1337),\n",
       " ('/pub/winvn/release.txt', 1185),\n",
       " ('/shuttle/missions/STS-69/mission-STS-69.html', 683),\n",
       " ('/images/nasa-logo.gif', 319),\n",
       " ('/shuttle/missions/sts-68/ksc-upclose.gif', 253)]"
      ]
     },
     "execution_count": 14,
     "metadata": {},
     "output_type": "execute_result"
    }
   ],
   "source": [
    "top5_hosts404(erros404_agosto)"
   ]
  },
  {
   "cell_type": "code",
   "execution_count": 15,
   "metadata": {},
   "outputs": [],
   "source": [
    "# Quantidade de erros 404 por dia\n",
    "def contador_dias_404(rdd):\n",
    "    dias = rdd.map(lambda linha: linha.split('[')[1].split(':')[0])\n",
    "    counts = dias.map(lambda dia: (dia, 1)).reduceByKey(add).collect()\n",
    "    return counts"
   ]
  },
  {
   "cell_type": "code",
   "execution_count": 16,
   "metadata": {},
   "outputs": [
    {
     "data": {
      "text/plain": [
       "[('13/Jul/1995', 532),\n",
       " ('21/Jul/1995', 334),\n",
       " ('25/Jul/1995', 461),\n",
       " ('09/Jul/1995', 348),\n",
       " ('15/Jul/1995', 254),\n",
       " ('16/Jul/1995', 257),\n",
       " ('18/Jul/1995', 465),\n",
       " ('17/Jul/1995', 406),\n",
       " ('07/Jul/1995', 570),\n",
       " ('12/Jul/1995', 471),\n",
       " ('19/Jul/1995', 639),\n",
       " ('22/Jul/1995', 192),\n",
       " ('23/Jul/1995', 233),\n",
       " ('03/Jul/1995', 474),\n",
       " ('05/Jul/1995', 497),\n",
       " ('10/Jul/1995', 398),\n",
       " ('14/Jul/1995', 413),\n",
       " ('01/Jul/1995', 316),\n",
       " ('02/Jul/1995', 291),\n",
       " ('04/Jul/1995', 359),\n",
       " ('06/Jul/1995', 640),\n",
       " ('08/Jul/1995', 302),\n",
       " ('11/Jul/1995', 471),\n",
       " ('20/Jul/1995', 428),\n",
       " ('24/Jul/1995', 328),\n",
       " ('26/Jul/1995', 336),\n",
       " ('27/Jul/1995', 336),\n",
       " ('28/Jul/1995', 94)]"
      ]
     },
     "execution_count": 16,
     "metadata": {},
     "output_type": "execute_result"
    }
   ],
   "source": [
    "contador_dias_404(erros404_julho)"
   ]
  },
  {
   "cell_type": "code",
   "execution_count": 17,
   "metadata": {},
   "outputs": [
    {
     "data": {
      "text/plain": [
       "[('01/Aug/1995', 243),\n",
       " ('07/Aug/1995', 537),\n",
       " ('09/Aug/1995', 279),\n",
       " ('10/Aug/1995', 315),\n",
       " ('21/Aug/1995', 305),\n",
       " ('27/Aug/1995', 370),\n",
       " ('30/Aug/1995', 571),\n",
       " ('03/Aug/1995', 304),\n",
       " ('06/Aug/1995', 373),\n",
       " ('08/Aug/1995', 391),\n",
       " ('16/Aug/1995', 259),\n",
       " ('20/Aug/1995', 312),\n",
       " ('05/Aug/1995', 236),\n",
       " ('11/Aug/1995', 263),\n",
       " ('12/Aug/1995', 196),\n",
       " ('13/Aug/1995', 216),\n",
       " ('15/Aug/1995', 327),\n",
       " ('17/Aug/1995', 271),\n",
       " ('22/Aug/1995', 288),\n",
       " ('23/Aug/1995', 345),\n",
       " ('24/Aug/1995', 420),\n",
       " ('26/Aug/1995', 366),\n",
       " ('28/Aug/1995', 410),\n",
       " ('14/Aug/1995', 287),\n",
       " ('18/Aug/1995', 256),\n",
       " ('19/Aug/1995', 209),\n",
       " ('31/Aug/1995', 526),\n",
       " ('04/Aug/1995', 346),\n",
       " ('25/Aug/1995', 415),\n",
       " ('29/Aug/1995', 420)]"
      ]
     },
     "execution_count": 17,
     "metadata": {},
     "output_type": "execute_result"
    }
   ],
   "source": [
    "contador_dias_404(erros404_agosto)"
   ]
  },
  {
   "cell_type": "code",
   "execution_count": 18,
   "metadata": {},
   "outputs": [],
   "source": [
    "# Quantidade de bytes acumulados \n",
    "def quantidade_bytes_acumulados(rdd):\n",
    "    def contador(linha):\n",
    "        try:\n",
    "            count = int(linha.split(\" \")[-1])\n",
    "            if count < 0:\n",
    "                raise ValueError()\n",
    "            return count\n",
    "        except:\n",
    "            return 0\n",
    "        \n",
    "    count = rdd.map(contador).reduce(add)\n",
    "    return count"
   ]
  },
  {
   "cell_type": "code",
   "execution_count": 19,
   "metadata": {},
   "outputs": [
    {
     "name": "stdout",
     "output_type": "stream",
     "text": [
      "Quantidade de bytes total em Julho: 38695973491\n"
     ]
    }
   ],
   "source": [
    "print('Quantidade de bytes total em Julho: %s' % quantidade_bytes_acumulados(julho))"
   ]
  },
  {
   "cell_type": "code",
   "execution_count": 20,
   "metadata": {},
   "outputs": [
    {
     "name": "stdout",
     "output_type": "stream",
     "text": [
      "Quantidade de bytes total em Agosto: 26828341424\n"
     ]
    }
   ],
   "source": [
    "print('Quantidade de bytes total em Agosto: %s' % quantidade_bytes_acumulados(agosto))"
   ]
  },
  {
   "cell_type": "code",
   "execution_count": 21,
   "metadata": {},
   "outputs": [],
   "source": [
    "sc.stop()"
   ]
  }
 ],
 "metadata": {
  "kernelspec": {
   "display_name": "Python 3",
   "language": "python",
   "name": "python3"
  },
  "language_info": {
   "codemirror_mode": {
    "name": "ipython",
    "version": 3
   },
   "file_extension": ".py",
   "mimetype": "text/x-python",
   "name": "python",
   "nbconvert_exporter": "python",
   "pygments_lexer": "ipython3",
   "version": "3.7.3"
  }
 },
 "nbformat": 4,
 "nbformat_minor": 2
}
